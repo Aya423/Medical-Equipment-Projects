{
 "cells": [
  {
   "cell_type": "code",
   "execution_count": 1,
   "id": "81648df5",
   "metadata": {
    "execution": {
     "iopub.execute_input": "2025-05-08T10:41:29.260223Z",
     "iopub.status.busy": "2025-05-08T10:41:29.259928Z",
     "iopub.status.idle": "2025-05-08T10:41:41.628922Z",
     "shell.execute_reply": "2025-05-08T10:41:41.628324Z"
    },
    "papermill": {
     "duration": 12.37419,
     "end_time": "2025-05-08T10:41:41.630478",
     "exception": false,
     "start_time": "2025-05-08T10:41:29.256288",
     "status": "completed"
    },
    "tags": []
   },
   "outputs": [],
   "source": [
    "import cv2\n",
    "import numpy as np\n",
    "import os\n",
    "import torch\n",
    "import pandas as pd\n",
    "from skimage import io, transform\n",
    "import numpy as np\n",
    "import matplotlib.pyplot as plt\n",
    "from torch.utils.data import Dataset, DataLoader\n",
    "from torchvision import transforms, utils\n",
    "import matplotlib.pyplot as plt \n",
    "from torch.utils.data import Dataset, random_split\n",
    "\n"
   ]
  },
  {
   "cell_type": "code",
   "execution_count": 2,
   "id": "48bb2fd3",
   "metadata": {
    "execution": {
     "iopub.execute_input": "2025-05-08T10:41:41.636510Z",
     "iopub.status.busy": "2025-05-08T10:41:41.635869Z",
     "iopub.status.idle": "2025-05-08T10:41:41.642463Z",
     "shell.execute_reply": "2025-05-08T10:41:41.641940Z"
    },
    "papermill": {
     "duration": 0.01037,
     "end_time": "2025-05-08T10:41:41.643539",
     "exception": false,
     "start_time": "2025-05-08T10:41:41.633169",
     "status": "completed"
    },
    "tags": []
   },
   "outputs": [],
   "source": [
    "class ImageDataset(Dataset):\n",
    "    def __init__(self, imagesDir, label, transform=None):\n",
    "        self.imagesDir = imagesDir\n",
    "        self.transform = transform\n",
    "        self.label = label\n",
    "        _, _, files = next(os.walk(self.imagesDir))\n",
    "        self.files = files\n",
    "        label_map = {\"AVM\": 0, \"Normal\": 1, \"Ulcer\": 2}\n",
    "        self.label = label_map[self.label]  # Converts \"AVM\" to 0, etc.\n",
    "\n",
    "    def __len__(self):\n",
    "        return len(self.files)\n",
    "\n",
    "    def __getitem__(self, idx):\n",
    "        image = cv2.imread(os.path.join(self.imagesDir, self.files[idx]))\n",
    "        height, width = image.shape[:2]\n",
    "        mask = np.zeros((height, width), dtype=np.uint8)\n",
    "        center = (width // 2, height // 2)\n",
    "        radius = min(center[0], center[1]) + 17\n",
    "        cv2.circle(mask, center, radius, 255, -1)\n",
    "        masked = cv2.bitwise_and(image, image, mask=mask)\n",
    "        \n",
    "        white_bg = np.ones_like(image, dtype=np.uint8) * 255\n",
    "        output = np.where(mask[:, :, np.newaxis] == 255, masked, white_bg)\n",
    "        output = cv2.cvtColor(output, cv2.COLOR_BGR2RGB)\n",
    "        if self.transform:\n",
    "            output = self.transform(output)\n",
    "\n",
    "        return output, self.label"
   ]
  },
  {
   "cell_type": "code",
   "execution_count": 3,
   "id": "4b7a7f18",
   "metadata": {
    "execution": {
     "iopub.execute_input": "2025-05-08T10:41:41.648208Z",
     "iopub.status.busy": "2025-05-08T10:41:41.648018Z",
     "iopub.status.idle": "2025-05-08T10:41:41.672790Z",
     "shell.execute_reply": "2025-05-08T10:41:41.672032Z"
    },
    "papermill": {
     "duration": 0.028209,
     "end_time": "2025-05-08T10:41:41.673785",
     "exception": true,
     "start_time": "2025-05-08T10:41:41.645576",
     "status": "failed"
    },
    "tags": []
   },
   "outputs": [
    {
     "ename": "NameError",
     "evalue": "name 'image' is not defined",
     "output_type": "error",
     "traceback": [
      "\u001b[0;31m---------------------------------------------------------------------------\u001b[0m",
      "\u001b[0;31mNameError\u001b[0m                                 Traceback (most recent call last)",
      "\u001b[0;32m/tmp/ipykernel_19/729804314.py\u001b[0m in \u001b[0;36m<cell line: 0>\u001b[0;34m()\u001b[0m\n\u001b[1;32m     16\u001b[0m                          [0.229, 0.224, 0.225])\n\u001b[1;32m     17\u001b[0m ])\n\u001b[0;32m---> 18\u001b[0;31m \u001b[0mimage\u001b[0m \u001b[0;34m=\u001b[0m \u001b[0mval_transform\u001b[0m\u001b[0;34m(\u001b[0m\u001b[0mimage\u001b[0m\u001b[0;34m)\u001b[0m\u001b[0;34m\u001b[0m\u001b[0;34m\u001b[0m\u001b[0m\n\u001b[0m\u001b[1;32m     19\u001b[0m \u001b[0mAVMImages\u001b[0m \u001b[0;34m=\u001b[0m \u001b[0mImageDataset\u001b[0m\u001b[0;34m(\u001b[0m\u001b[0mimagesDir\u001b[0m\u001b[0;34m=\u001b[0m\u001b[0;34m'/kaggle/input/capsule-endoscopy-dataset-kauhc/AVM'\u001b[0m\u001b[0;34m,\u001b[0m \u001b[0mlabel\u001b[0m\u001b[0;34m=\u001b[0m\u001b[0;34m\"AVM\"\u001b[0m\u001b[0;34m,\u001b[0m \u001b[0mtransform\u001b[0m\u001b[0;34m=\u001b[0m\u001b[0mtrain_transform\u001b[0m\u001b[0;34m)\u001b[0m\u001b[0;34m\u001b[0m\u001b[0;34m\u001b[0m\u001b[0m\n\u001b[1;32m     20\u001b[0m \u001b[0mNormalImages\u001b[0m \u001b[0;34m=\u001b[0m \u001b[0mImageDataset\u001b[0m\u001b[0;34m(\u001b[0m\u001b[0mimagesDir\u001b[0m\u001b[0;34m=\u001b[0m\u001b[0;34m'/kaggle/input/capsule-endoscopy-dataset-kauhc/Normal'\u001b[0m\u001b[0;34m,\u001b[0m \u001b[0mlabel\u001b[0m\u001b[0;34m=\u001b[0m\u001b[0;34m\"Normal\"\u001b[0m\u001b[0;34m,\u001b[0m \u001b[0mtransform\u001b[0m\u001b[0;34m=\u001b[0m\u001b[0mtrain_transform\u001b[0m\u001b[0;34m)\u001b[0m\u001b[0;34m\u001b[0m\u001b[0;34m\u001b[0m\u001b[0m\n",
      "\u001b[0;31mNameError\u001b[0m: name 'image' is not defined"
     ]
    }
   ],
   "source": [
    "train_transform = transforms.Compose([\n",
    "    transforms.ToPILImage(),\n",
    "    transforms.Resize((224, 224)),\n",
    "    transforms.RandomHorizontalFlip(),\n",
    "    transforms.RandomRotation(10),\n",
    "    transforms.ToTensor(),\n",
    "    transforms.Normalize([0.485, 0.456, 0.406],  # ImageNet means\n",
    "                         [0.229, 0.224, 0.225])  # ImageNet stds\n",
    "])\n",
    "\n",
    "val_transform = transforms.Compose([\n",
    "    transforms.ToPILImage(),\n",
    "    transforms.Resize((224, 224)),\n",
    "    transforms.ToTensor(),\n",
    "    transforms.Normalize([0.485, 0.456, 0.406],\n",
    "                         [0.229, 0.224, 0.225])\n",
    "])\n",
    "image = val_transform(image)\n",
    "AVMImages = ImageDataset(imagesDir='/kaggle/input/capsule-endoscopy-dataset-kauhc/AVM', label=\"AVM\", transform=train_transform)\n",
    "NormalImages = ImageDataset(imagesDir='/kaggle/input/capsule-endoscopy-dataset-kauhc/Normal', label=\"Normal\", transform=train_transform)\n",
    "UlcerImages = ImageDataset(imagesDir='/kaggle/input/capsule-endoscopy-dataset-kauhc/Ulcer', label=\"Ulcer\", transform=train_transform)\n",
    "dataset = torch.utils.data.ConcatDataset([AVMImages, NormalImages, UlcerImages])\n",
    "dataset_size = len(dataset)\n",
    "train_size = int(0.8 * dataset_size)\n",
    "validation_size = dataset_size - train_size\n",
    "train_data, val_data = random_split(dataset, [train_size, validation_size])\n",
    "\n",
    "trainLoader = DataLoader(train_data, batch_size=64, shuffle=True)\n",
    "valLoader = DataLoader(val_data, batch_size=64, shuffle=True)\n",
    "\n"
   ]
  },
  {
   "cell_type": "code",
   "execution_count": null,
   "id": "50e4c687",
   "metadata": {
    "_cell_guid": "b1076dfc-b9ad-4769-8c92-a6c4dae69d19",
    "_uuid": "8f2839f25d086af736a60e9eeb907d3b93b6e0e5",
    "execution": {
     "iopub.execute_input": "2025-05-07T21:05:32.716006Z",
     "iopub.status.busy": "2025-05-07T21:05:32.715205Z",
     "iopub.status.idle": "2025-05-07T21:05:32.901482Z",
     "shell.execute_reply": "2025-05-07T21:05:32.900820Z",
     "shell.execute_reply.started": "2025-05-07T21:05:32.715982Z"
    },
    "papermill": {
     "duration": null,
     "end_time": null,
     "exception": null,
     "start_time": null,
     "status": "pending"
    },
    "tags": []
   },
   "outputs": [],
   "source": [
    "import torch\n",
    "import torch.nn as nn\n",
    "import torch.optim as optim\n",
    "import torchvision.models as models\n",
    "import copy\n",
    "\n",
    "device = torch.device('cuda' if torch.cuda.is_available() else 'cpu')\n",
    "\n",
    "model = models.efficientnet_b0(pretrained=True)\n",
    "\n",
    "# Replace classifier head\n",
    "model.classifier[1] = nn.Linear(model.classifier[1].in_features, 3)  # 3 classes\n",
    "model = model.to(device)\n",
    "\n",
    "criterion = nn.CrossEntropyLoss()\n",
    "optimizer = optim.Adam(model.parameters(), lr=1e-4)\n",
    "num_epochs = 30\n",
    "patience = 5  # for early stopping\n",
    "best_val_acc = 0\n",
    "counter = 0\n",
    "best_model_wts = copy.deepcopy(model.state_dict())\n",
    "model_save_path = \"best_model.pth\""
   ]
  },
  {
   "cell_type": "code",
   "execution_count": null,
   "id": "86254833",
   "metadata": {
    "execution": {
     "iopub.execute_input": "2025-05-07T21:04:38.646045Z",
     "iopub.status.busy": "2025-05-07T21:04:38.645393Z",
     "iopub.status.idle": "2025-05-07T21:04:38.653070Z",
     "shell.execute_reply": "2025-05-07T21:04:38.652111Z",
     "shell.execute_reply.started": "2025-05-07T21:04:38.646010Z"
    },
    "papermill": {
     "duration": null,
     "end_time": null,
     "exception": null,
     "start_time": null,
     "status": "pending"
    },
    "tags": []
   },
   "outputs": [],
   "source": [
    "device"
   ]
  },
  {
   "cell_type": "code",
   "execution_count": null,
   "id": "b948b887",
   "metadata": {
    "execution": {
     "iopub.execute_input": "2025-05-07T21:05:39.124094Z",
     "iopub.status.busy": "2025-05-07T21:05:39.123767Z",
     "iopub.status.idle": "2025-05-07T21:16:41.600971Z",
     "shell.execute_reply": "2025-05-07T21:16:41.600107Z",
     "shell.execute_reply.started": "2025-05-07T21:05:39.124072Z"
    },
    "papermill": {
     "duration": null,
     "end_time": null,
     "exception": null,
     "start_time": null,
     "status": "pending"
    },
    "tags": []
   },
   "outputs": [],
   "source": [
    "for epoch in range(num_epochs):\n",
    "    print(f\"\\nEpoch {epoch + 1}/{num_epochs}\")\n",
    "    model.train()\n",
    "    running_loss = 0.0\n",
    "    correct = 0\n",
    "\n",
    "    for inputs, labels in trainLoader:\n",
    "        inputs, labels = inputs.to(device), labels.to(device)\n",
    "        optimizer.zero_grad()\n",
    "        outputs = model(inputs)\n",
    "        loss = criterion(outputs, labels)\n",
    "        loss.backward()\n",
    "        optimizer.step()\n",
    "\n",
    "        running_loss += loss.item() * inputs.size(0)\n",
    "        _, preds = torch.max(outputs, 1)\n",
    "        correct += torch.sum(preds == labels)\n",
    "\n",
    "    epoch_loss = running_loss / len(trainLoader.dataset)\n",
    "    epoch_acc = correct.double() / len(trainLoader.dataset)\n",
    "    print(f\"Train Loss: {epoch_loss:.4f}, Accuracy: {epoch_acc:.4f}\")\n",
    "\n",
    "    # Validation phase\n",
    "    model.eval()\n",
    "    val_correct = 0\n",
    "    val_loss = 0.0\n",
    "    with torch.no_grad():\n",
    "        for inputs, labels in valLoader:\n",
    "            inputs, labels = inputs.to(device), labels.to(device)\n",
    "            outputs = model(inputs)\n",
    "            loss = criterion(outputs, labels)\n",
    "            val_loss += loss.item() * inputs.size(0)\n",
    "            _, preds = torch.max(outputs, 1)\n",
    "            val_correct += torch.sum(preds == labels)\n",
    "\n",
    "    val_loss /= len(valLoader.dataset)\n",
    "    val_acc = val_correct.double() / len(valLoader.dataset)\n",
    "    print(f\"Val Loss: {val_loss:.4f}, Accuracy: {val_acc:.4f}\")\n",
    "\n",
    "    # Check for improvement\n",
    "    if val_acc > best_val_acc:\n",
    "        best_val_acc = val_acc\n",
    "        best_model_wts = copy.deepcopy(model.state_dict())\n",
    "        torch.save(\"model.pth\")\n",
    "        torch.save(best_model_wts, model_save_path)\n",
    "        print(f\"✅ Saved new best model (val acc: {val_acc:.4f})\")\n",
    "        counter = 0  # reset early stopping\n",
    "    else:\n",
    "        counter += 1\n",
    "        print(f\"⚠️ No improvement. Early stop counter: {counter}/{patience}\")\n",
    "        if counter >= patience:\n",
    "            print(\"⏹️ Early stopping triggered.\")\n",
    "            break\n",
    "\n",
    "# Load best model after training\n",
    "model.load_state_dict(best_model_wts)\n",
    "print(f\"✅ Loaded best model weights from {model_save_path}\")\n"
   ]
  },
  {
   "cell_type": "code",
   "execution_count": null,
   "id": "05e1ddf3",
   "metadata": {
    "execution": {
     "iopub.execute_input": "2025-05-08T09:42:02.211730Z",
     "iopub.status.busy": "2025-05-08T09:42:02.211426Z",
     "iopub.status.idle": "2025-05-08T09:42:02.538708Z",
     "shell.execute_reply": "2025-05-08T09:42:02.538198Z",
     "shell.execute_reply.started": "2025-05-08T09:42:02.211707Z"
    },
    "papermill": {
     "duration": null,
     "end_time": null,
     "exception": null,
     "start_time": null,
     "status": "pending"
    },
    "tags": []
   },
   "outputs": [],
   "source": [
    "import cv2\n",
    "import numpy as np\n",
    "\n",
    "def ellipse_to_polygon(center, axes, angle, num_points=50):\n",
    "    contour = cv2.ellipse2Poly(center=center, axes=(int(axes[0] / 2), int(axes[1] / 2)),\n",
    "                               angle=int(angle), arcStart=0, arcEnd=360, delta=360 // num_points)\n",
    "    return contour  # Returns Nx2 numpy array of (x, y) points\n",
    "\n",
    "def normalize_points(points, img_width, img_height):\n",
    "    return [(x / img_width, y / img_height) for (x, y) in points]\n",
    "\n",
    "def save_yolo_segmentation(file_path, class_id, points):\n",
    "    \"\"\"Saves normalized polygon points in YOLOv8 segmentation format.\"\"\"\n",
    "    with open(file_path, 'w') as f:\n",
    "        f.write(f\"{class_id} \" + \" \".join(f\"{x:.6f} {y:.6f}\" for x, y in points))\n",
    "\n",
    "def ObtainEllipse(path):\n",
    "    image = cv2.imread(path)\n",
    "    height, width = image.shape[:2]\n",
    "    mask = np.zeros((height, width), dtype=np.uint8)\n",
    "    center = (width // 2, height // 2)\n",
    "    radius = min(center[0], center[1]) + 17\n",
    "    cv2.circle(mask, center, radius, 255, -1)\n",
    "    masked = cv2.bitwise_and(image, image, mask=mask)\n",
    "    white_bg = np.ones_like(image, dtype=np.uint8) * 255\n",
    "    output = np.where(mask[:, :, np.newaxis] == 255, masked, white_bg)\n",
    "    gray = cv2.cvtColor(output, cv2.COLOR_BGR2GRAY)\n",
    "    lower_black = np.array([0, 0, 0])\n",
    "    upper_black = np.array([0, 0, 0])  # Allow slightly off-black\n",
    "\n",
    "    # Create a binary mask where pixels are close to black\n",
    "    black_mask = cv2.inRange(output, lower_black, upper_black)\n",
    "\n",
    "    contours, _ = cv2.findContours(black_mask, cv2.RETR_EXTERNAL, cv2.CHAIN_APPROX_SIMPLE)\n",
    "    for contour in contours:\n",
    "        if len(contour) >= 5:  # fitEllipse requires at least 5 points\n",
    "            ellipse = cv2.fitEllipse(contour)\n",
    "            (x_center, y_center), (MA, ma), angle = ellipse\n",
    "            return ellipse, output, (x_center, y_center), (MA, ma), angle, width, height"
   ]
  },
  {
   "cell_type": "code",
   "execution_count": null,
   "id": "4d195d9e",
   "metadata": {
    "execution": {
     "iopub.execute_input": "2025-05-08T10:07:28.918539Z",
     "iopub.status.busy": "2025-05-08T10:07:28.918221Z",
     "iopub.status.idle": "2025-05-08T10:07:29.026584Z",
     "shell.execute_reply": "2025-05-08T10:07:29.025693Z",
     "shell.execute_reply.started": "2025-05-08T10:07:28.918509Z"
    },
    "papermill": {
     "duration": null,
     "end_time": null,
     "exception": null,
     "start_time": null,
     "status": "pending"
    },
    "tags": []
   },
   "outputs": [],
   "source": [
    "import os\n",
    "import glob\n",
    "import random\n",
    "import shutil\n",
    "import csv\n",
    "\n",
    "# paths\n",
    "src_root = \"/kaggle/input/capsule-endoscopy-dataset-kauhc\"\n",
    "dst_root = \"dataset/images\"\n",
    "dst_root_labels = \"dataset/labels\"\n",
    "\n",
    "train_dir = os.path.join(dst_root, \"train\")\n",
    "test_dir  = os.path.join(dst_root, \"test\")\n",
    "\n",
    "labels_train_dir = os.path.join(dst_root, \"train\")\n",
    "labels_test_dir  = os.path.join(dst_root, \"test\")\n",
    "\n",
    "# make sure output dirs exist\n",
    "os.makedirs(train_dir, exist_ok=True)\n",
    "os.makedirs(test_dir,  exist_ok=True)\n",
    "os.makedirs(labels_train_dir, exist_ok=True)\n",
    "os.makedirs(labels_test_dir,  exist_ok=True)\n",
    "\n",
    "# only these subfolders will be processed\n",
    "CLASSES = {\n",
    "    \"AVM\":   0,\n",
    "    \"Ulcer\": 1\n",
    "}\n",
    "\n",
    "# collect all images and associate labels, skipping everything else (e.g., 'Normal')\n",
    "items = []\n",
    "for class_name, label in CLASSES.items():\n",
    "    folder = os.path.join(src_root, class_name)\n",
    "    if not os.path.isdir(folder):\n",
    "        continue\n",
    "    for filepath in glob.glob(os.path.join(folder, \"*\")):\n",
    "        ext = os.path.splitext(filepath)[1].lower()\n",
    "        if ext in [\".jpg\", \".jpeg\", \".png\", \".bmp\"]:\n",
    "            items.append((filepath, label, ext))\n",
    "\n",
    "# shuffle and split 80% train / 20% test\n",
    "random.seed(42)\n",
    "random.shuffle(items)\n",
    "split_idx    = int(len(items) * 0.8)\n",
    "train_items  = items[:split_idx]\n",
    "test_items   = items[split_idx:]\n",
    "\n",
    "def process_list(item_list, out_dir, csv_path, start_index=1):\n",
    "    \"\"\"Copy & rename images, write CSV of (filename,label).\"\"\"\n",
    "    with open(csv_path, \"w\", newline=\"\") as csvfile:\n",
    "        writer = csv.writer(csvfile)\n",
    "        writer.writerow([\"filename\", \"label\"])\n",
    "        idx = start_index\n",
    "        for src_path, label, ext in item_list:\n",
    "            new_name = f\"image{idx}{ext}\"\n",
    "            dst_path  = os.path.join(out_dir, new_name)\n",
    "            shutil.copy(src_path, dst_path)\n",
    "            ellipse, output, (x_center, y_center), (MA, ma), angle, width, height = ObtainEllipse(\"test image.bmp\")\n",
    "            if(MA > 5 and ma > 5):\n",
    "                polygon = ellipse_to_polygon((int(x_center), int(y_center)), (MA, ma), angle)\n",
    "                normalized = normalize_points(polygon, width, height)\n",
    "                save_yolo_segmentation(\"label.txt\", class_id=0, points=normalized)\n",
    "            writer.writerow([new_name, label])\n",
    "            idx += 1\n",
    "    return idx\n",
    "\n",
    "# execute\n",
    "next_idx = process_list(\n",
    "    train_items,\n",
    "    train_dir,\n",
    "    os.path.join(dst_root, \"train_labels.csv\"),\n",
    "    start_index=1\n",
    ")\n",
    "process_list(\n",
    "    test_items,\n",
    "    test_dir,\n",
    "    os.path.join(dst_root, \"test_labels.csv\"),\n",
    "    start_index=next_idx\n",
    ")\n",
    "\n",
    "print(f\"Done! {len(train_items)} train images and {len(test_items)} test images created.\")\n"
   ]
  },
  {
   "cell_type": "code",
   "execution_count": null,
   "id": "a47cba71",
   "metadata": {
    "papermill": {
     "duration": null,
     "end_time": null,
     "exception": null,
     "start_time": null,
     "status": "pending"
    },
    "tags": []
   },
   "outputs": [],
   "source": []
  }
 ],
 "metadata": {
  "kaggle": {
   "accelerator": "gpu",
   "dataSources": [
    {
     "datasetId": 6591548,
     "sourceId": 10645347,
     "sourceType": "datasetVersion"
    }
   ],
   "dockerImageVersionId": 31012,
   "isGpuEnabled": true,
   "isInternetEnabled": true,
   "language": "python",
   "sourceType": "notebook"
  },
  "kernelspec": {
   "display_name": "Python 3",
   "language": "python",
   "name": "python3"
  },
  "language_info": {
   "codemirror_mode": {
    "name": "ipython",
    "version": 3
   },
   "file_extension": ".py",
   "mimetype": "text/x-python",
   "name": "python",
   "nbconvert_exporter": "python",
   "pygments_lexer": "ipython3",
   "version": "3.11.11"
  },
  "papermill": {
   "default_parameters": {},
   "duration": 19.392158,
   "end_time": "2025-05-08T10:41:44.058101",
   "environment_variables": {},
   "exception": true,
   "input_path": "__notebook__.ipynb",
   "output_path": "__notebook__.ipynb",
   "parameters": {},
   "start_time": "2025-05-08T10:41:24.665943",
   "version": "2.6.0"
  }
 },
 "nbformat": 4,
 "nbformat_minor": 5
}
